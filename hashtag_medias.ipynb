{
 "cells": [
  {
   "cell_type": "code",
   "execution_count": 5,
   "metadata": {},
   "outputs": [],
   "source": [
    "from instagrapi import Client\n",
    "import time"
   ]
  },
  {
   "cell_type": "code",
   "execution_count": 2,
   "metadata": {},
   "outputs": [
    {
     "data": {
      "text/plain": [
       "True"
      ]
     },
     "execution_count": 2,
     "metadata": {},
     "output_type": "execute_result"
    }
   ],
   "source": [
    "cl = Client()\n",
    "cl.login('aptos.io','wlsdn92(@')"
   ]
  },
  {
   "cell_type": "code",
   "execution_count": 9,
   "metadata": {},
   "outputs": [],
   "source": [
    "medias, cursor = cl.hashtag_medias_v1_chunk('인스타툰', max_amount=32, tab_key='recent')"
   ]
  },
  {
   "cell_type": "code",
   "execution_count": 10,
   "metadata": {},
   "outputs": [
    {
     "data": {
      "text/plain": [
       "32"
      ]
     },
     "execution_count": 10,
     "metadata": {},
     "output_type": "execute_result"
    }
   ],
   "source": [
    "len(medias)"
   ]
  },
  {
   "cell_type": "code",
   "execution_count": 11,
   "metadata": {},
   "outputs": [
    {
     "data": {
      "text/plain": [
       "'QVFDS3ZEV3UwREJkMlFVVU80LWhjT19HS0dSbExPUFQ4R0xrVjJjSHN4OWF1ckxuWlc5aUQ5dm1KQjF0UTlfbGZKQ1ZVV2ZmVVFoaHJKREdQR0NvOU5LZA=='"
      ]
     },
     "execution_count": 11,
     "metadata": {},
     "output_type": "execute_result"
    }
   ],
   "source": [
    "cursor"
   ]
  },
  {
   "cell_type": "code",
   "execution_count": 12,
   "metadata": {},
   "outputs": [],
   "source": [
    "medias2, cursor2 = cl.hashtag_medias_v1_chunk('인스타툰', max_amount=32, tab_key='recent', max_id=cursor)"
   ]
  },
  {
   "cell_type": "code",
   "execution_count": 27,
   "metadata": {},
   "outputs": [
    {
     "data": {
      "text/plain": [
       "{'pk': '2947484280348932494',\n",
       " 'id': '2947484280348932494_55753408235',\n",
       " 'code': 'CjnkVYnPvmO',\n",
       " 'taken_at': datetime.datetime(2022, 10, 12, 15, 12, 8, tzinfo=datetime.timezone.utc),\n",
       " 'media_type': 8,\n",
       " 'product_type': 'carousel_container',\n",
       " 'thumbnail_url': None,\n",
       " 'location': None,\n",
       " 'user': {'pk': '55753408235',\n",
       "  'username': 'yoongstoon',\n",
       "  'full_name': '이 융 | 인스타툰',\n",
       "  'profile_pic_url': HttpUrl('https://scontent-gmp1-1.cdninstagram.com/v/t51.2885-19/308929897_893269748744081_7487094062981084957_n.jpg?stp=dst-jpg_s150x150&_nc_ht=scontent-gmp1-1.cdninstagram.com&_nc_cat=105&_nc_ohc=gxs7TyUmagYAX9W183a&edm=AMKDjl4BAAAA&ccb=7-5&oh=00_AT_ZKLbC1lW5Wk3Ypc2FYN-Qyjahmo4bM9ZpwjXaGW-a7g&oe=634E0F2C&_nc_sid=1fe099', scheme='https', host='scontent-gmp1-1.cdninstagram.com', tld='com', host_type='domain', port='443', path='/v/t51.2885-19/308929897_893269748744081_7487094062981084957_n.jpg', query='stp=dst-jpg_s150x150&_nc_ht=scontent-gmp1-1.cdninstagram.com&_nc_cat=105&_nc_ohc=gxs7TyUmagYAX9W183a&edm=AMKDjl4BAAAA&ccb=7-5&oh=00_AT_ZKLbC1lW5Wk3Ypc2FYN-Qyjahmo4bM9ZpwjXaGW-a7g&oe=634E0F2C&_nc_sid=1fe099'),\n",
       "  'profile_pic_url_hd': None,\n",
       "  'is_private': False,\n",
       "  'stories': []},\n",
       " 'comment_count': 0,\n",
       " 'like_count': 0,\n",
       " 'has_liked': False,\n",
       " 'caption_text': '나의 우울이야기-3\\n풀어낼 내용이 많은데 추리는 게 어렵네요\\n오늘도 봐주셔서 감사합니다 :)\\n.\\n\\n#인스타툰 #만화 #융툰 #웹툰 #instatoon #사과나무 #infj #융의오두막 #우울증 #나의우울이야기 #우울\\n#공시생 #공시 #우울증극복 #우울증만화',\n",
       " 'accessibility_caption': None,\n",
       " 'usertags': [],\n",
       " 'video_url': None,\n",
       " 'view_count': 0,\n",
       " 'video_duration': 0.0,\n",
       " 'title': '',\n",
       " 'resources': [{'pk': '2947484272698406892',\n",
       "   'video_url': None,\n",
       "   'thumbnail_url': HttpUrl('https://scontent-gmp1-1.cdninstagram.com/v/t51.2885-15/311334202_200750079045332_6814686690788271261_n.jpg?stp=dst-jpg_e35_s1080x1080&_nc_ht=scontent-gmp1-1.cdninstagram.com&_nc_cat=108&_nc_ohc=nEG1nCBmxRcAX8HyodN&edm=AMKDjl4BAAAA&ccb=7-5&ig_cache_key=Mjk0NzQ4NDI3MjY5ODQwNjg5Mg%3D%3D.2-ccb7-5&oh=00_AT8SupIxCrgglP_3EqWDtF7b91o5IGzSP6HEZwOALb6ydA&oe=634DBEB2&_nc_sid=1fe099', scheme='https', host='scontent-gmp1-1.cdninstagram.com', tld='com', host_type='domain', port='443', path='/v/t51.2885-15/311334202_200750079045332_6814686690788271261_n.jpg', query='stp=dst-jpg_e35_s1080x1080&_nc_ht=scontent-gmp1-1.cdninstagram.com&_nc_cat=108&_nc_ohc=nEG1nCBmxRcAX8HyodN&edm=AMKDjl4BAAAA&ccb=7-5&ig_cache_key=Mjk0NzQ4NDI3MjY5ODQwNjg5Mg%3D%3D.2-ccb7-5&oh=00_AT8SupIxCrgglP_3EqWDtF7b91o5IGzSP6HEZwOALb6ydA&oe=634DBEB2&_nc_sid=1fe099'),\n",
       "   'media_type': 1},\n",
       "  {'pk': '2947484272497121059',\n",
       "   'video_url': None,\n",
       "   'thumbnail_url': HttpUrl('https://scontent-gmp1-1.cdninstagram.com/v/t51.2885-15/311228297_1522116901596521_7106037195509881242_n.jpg?stp=dst-jpg_e35_s1080x1080&_nc_ht=scontent-gmp1-1.cdninstagram.com&_nc_cat=105&_nc_ohc=RUXTBqo9Dn0AX9_rssA&edm=AMKDjl4BAAAA&ccb=7-5&ig_cache_key=Mjk0NzQ4NDI3MjQ5NzEyMTA1OQ%3D%3D.2-ccb7-5&oh=00_AT-sC6IC9iUeD-JrDV-3U1PT91zy4dcFZ5lwq_oEYOypCQ&oe=634E99C8&_nc_sid=1fe099', scheme='https', host='scontent-gmp1-1.cdninstagram.com', tld='com', host_type='domain', port='443', path='/v/t51.2885-15/311228297_1522116901596521_7106037195509881242_n.jpg', query='stp=dst-jpg_e35_s1080x1080&_nc_ht=scontent-gmp1-1.cdninstagram.com&_nc_cat=105&_nc_ohc=RUXTBqo9Dn0AX9_rssA&edm=AMKDjl4BAAAA&ccb=7-5&ig_cache_key=Mjk0NzQ4NDI3MjQ5NzEyMTA1OQ%3D%3D.2-ccb7-5&oh=00_AT-sC6IC9iUeD-JrDV-3U1PT91zy4dcFZ5lwq_oEYOypCQ&oe=634E99C8&_nc_sid=1fe099'),\n",
       "   'media_type': 1},\n",
       "  {'pk': '2947484272505413938',\n",
       "   'video_url': None,\n",
       "   'thumbnail_url': HttpUrl('https://scontent-gmp1-1.cdninstagram.com/v/t51.2885-15/311587266_184165197468155_2918173103481442458_n.jpg?stp=dst-jpg_e35_s1080x1080&_nc_ht=scontent-gmp1-1.cdninstagram.com&_nc_cat=111&_nc_ohc=bXRsB0er1RwAX9-sm_G&edm=AMKDjl4BAAAA&ccb=7-5&ig_cache_key=Mjk0NzQ4NDI3MjUwNTQxMzkzOA%3D%3D.2-ccb7-5&oh=00_AT9sp_NbTUIvs8D1vhci7e-sV5EcTprRGFJGyB1CIJ-r0A&oe=634D5E7F&_nc_sid=1fe099', scheme='https', host='scontent-gmp1-1.cdninstagram.com', tld='com', host_type='domain', port='443', path='/v/t51.2885-15/311587266_184165197468155_2918173103481442458_n.jpg', query='stp=dst-jpg_e35_s1080x1080&_nc_ht=scontent-gmp1-1.cdninstagram.com&_nc_cat=111&_nc_ohc=bXRsB0er1RwAX9-sm_G&edm=AMKDjl4BAAAA&ccb=7-5&ig_cache_key=Mjk0NzQ4NDI3MjUwNTQxMzkzOA%3D%3D.2-ccb7-5&oh=00_AT9sp_NbTUIvs8D1vhci7e-sV5EcTprRGFJGyB1CIJ-r0A&oe=634D5E7F&_nc_sid=1fe099'),\n",
       "   'media_type': 1},\n",
       "  {'pk': '2947484272488642976',\n",
       "   'video_url': None,\n",
       "   'thumbnail_url': HttpUrl('https://scontent-gmp1-1.cdninstagram.com/v/t51.2885-15/305947145_198920569205927_5683655635908003598_n.jpg?stp=dst-jpg_e35_s1080x1080&_nc_ht=scontent-gmp1-1.cdninstagram.com&_nc_cat=111&_nc_ohc=rI2xqzhuRBsAX-lh8a3&edm=AMKDjl4BAAAA&ccb=7-5&ig_cache_key=Mjk0NzQ4NDI3MjQ4ODY0Mjk3Ng%3D%3D.2-ccb7-5&oh=00_AT_3i8F7bNyKSyfoxVeOyXy7_jFs79xdawzb2WXmYus94g&oe=634D285D&_nc_sid=1fe099', scheme='https', host='scontent-gmp1-1.cdninstagram.com', tld='com', host_type='domain', port='443', path='/v/t51.2885-15/305947145_198920569205927_5683655635908003598_n.jpg', query='stp=dst-jpg_e35_s1080x1080&_nc_ht=scontent-gmp1-1.cdninstagram.com&_nc_cat=111&_nc_ohc=rI2xqzhuRBsAX-lh8a3&edm=AMKDjl4BAAAA&ccb=7-5&ig_cache_key=Mjk0NzQ4NDI3MjQ4ODY0Mjk3Ng%3D%3D.2-ccb7-5&oh=00_AT_3i8F7bNyKSyfoxVeOyXy7_jFs79xdawzb2WXmYus94g&oe=634D285D&_nc_sid=1fe099'),\n",
       "   'media_type': 1},\n",
       "  {'pk': '2947484272639765826',\n",
       "   'video_url': None,\n",
       "   'thumbnail_url': HttpUrl('https://scontent-gmp1-1.cdninstagram.com/v/t51.2885-15/311228294_164385982934394_1077491602686938528_n.jpg?stp=dst-jpg_e35_s1080x1080&_nc_ht=scontent-gmp1-1.cdninstagram.com&_nc_cat=106&_nc_ohc=XQwughp-5xYAX-Uf7B6&edm=AMKDjl4BAAAA&ccb=7-5&ig_cache_key=Mjk0NzQ4NDI3MjYzOTc2NTgyNg%3D%3D.2-ccb7-5&oh=00_AT80n_mcsLCepmCJrIsW4iaLd0FzScp_GoFuR8tpcz2tpQ&oe=634E5E8E&_nc_sid=1fe099', scheme='https', host='scontent-gmp1-1.cdninstagram.com', tld='com', host_type='domain', port='443', path='/v/t51.2885-15/311228294_164385982934394_1077491602686938528_n.jpg', query='stp=dst-jpg_e35_s1080x1080&_nc_ht=scontent-gmp1-1.cdninstagram.com&_nc_cat=106&_nc_ohc=XQwughp-5xYAX-Uf7B6&edm=AMKDjl4BAAAA&ccb=7-5&ig_cache_key=Mjk0NzQ4NDI3MjYzOTc2NTgyNg%3D%3D.2-ccb7-5&oh=00_AT80n_mcsLCepmCJrIsW4iaLd0FzScp_GoFuR8tpcz2tpQ&oe=634E5E8E&_nc_sid=1fe099'),\n",
       "   'media_type': 1},\n",
       "  {'pk': '2947484272513817415',\n",
       "   'video_url': None,\n",
       "   'thumbnail_url': HttpUrl('https://scontent-gmp1-1.cdninstagram.com/v/t51.2885-15/311133886_502569735059973_201052610692050867_n.jpg?stp=dst-jpg_e35_s1080x1080&_nc_ht=scontent-gmp1-1.cdninstagram.com&_nc_cat=109&_nc_ohc=50IH8KGO59kAX-Pi5gQ&edm=AMKDjl4BAAAA&ccb=7-5&ig_cache_key=Mjk0NzQ4NDI3MjUxMzgxNzQxNQ%3D%3D.2-ccb7-5&oh=00_AT8iTIWcBmVUnMwhKhOq00aYeFz5zl2hzefHhLpxFAOCnw&oe=634D62F5&_nc_sid=1fe099', scheme='https', host='scontent-gmp1-1.cdninstagram.com', tld='com', host_type='domain', port='443', path='/v/t51.2885-15/311133886_502569735059973_201052610692050867_n.jpg', query='stp=dst-jpg_e35_s1080x1080&_nc_ht=scontent-gmp1-1.cdninstagram.com&_nc_cat=109&_nc_ohc=50IH8KGO59kAX-Pi5gQ&edm=AMKDjl4BAAAA&ccb=7-5&ig_cache_key=Mjk0NzQ4NDI3MjUxMzgxNzQxNQ%3D%3D.2-ccb7-5&oh=00_AT8iTIWcBmVUnMwhKhOq00aYeFz5zl2hzefHhLpxFAOCnw&oe=634D62F5&_nc_sid=1fe099'),\n",
       "   'media_type': 1},\n",
       "  {'pk': '2947484272690138843',\n",
       "   'video_url': None,\n",
       "   'thumbnail_url': HttpUrl('https://scontent-gmp1-1.cdninstagram.com/v/t51.2885-15/311187577_837951120545046_7606879197595418715_n.jpg?stp=dst-jpg_e35_s1080x1080&_nc_ht=scontent-gmp1-1.cdninstagram.com&_nc_cat=106&_nc_ohc=XELLFiogpFgAX_ZOdMG&edm=AMKDjl4BAAAA&ccb=7-5&ig_cache_key=Mjk0NzQ4NDI3MjY5MDEzODg0Mw%3D%3D.2-ccb7-5&oh=00_AT_t2kD5mrCS2NUnGSWIh1KV24aqSkZPg7j-bEK_zCz_2A&oe=634E4A0B&_nc_sid=1fe099', scheme='https', host='scontent-gmp1-1.cdninstagram.com', tld='com', host_type='domain', port='443', path='/v/t51.2885-15/311187577_837951120545046_7606879197595418715_n.jpg', query='stp=dst-jpg_e35_s1080x1080&_nc_ht=scontent-gmp1-1.cdninstagram.com&_nc_cat=106&_nc_ohc=XELLFiogpFgAX_ZOdMG&edm=AMKDjl4BAAAA&ccb=7-5&ig_cache_key=Mjk0NzQ4NDI3MjY5MDEzODg0Mw%3D%3D.2-ccb7-5&oh=00_AT_t2kD5mrCS2NUnGSWIh1KV24aqSkZPg7j-bEK_zCz_2A&oe=634E4A0B&_nc_sid=1fe099'),\n",
       "   'media_type': 1},\n",
       "  {'pk': '2947484272497177275',\n",
       "   'video_url': None,\n",
       "   'thumbnail_url': HttpUrl('https://scontent-gmp1-1.cdninstagram.com/v/t51.2885-15/311371466_822694952190571_5569474181699196882_n.jpg?stp=dst-jpg_e35_s1080x1080&_nc_ht=scontent-gmp1-1.cdninstagram.com&_nc_cat=107&_nc_ohc=0v_N-8tvIgMAX_TXnpM&edm=AMKDjl4BAAAA&ccb=7-5&ig_cache_key=Mjk0NzQ4NDI3MjQ5NzE3NzI3NQ%3D%3D.2-ccb7-5&oh=00_AT82WkWbT0vFKA2bUnp_zY5fGGV2KHwhqKnO7mtHP7MgxA&oe=634D9C0F&_nc_sid=1fe099', scheme='https', host='scontent-gmp1-1.cdninstagram.com', tld='com', host_type='domain', port='443', path='/v/t51.2885-15/311371466_822694952190571_5569474181699196882_n.jpg', query='stp=dst-jpg_e35_s1080x1080&_nc_ht=scontent-gmp1-1.cdninstagram.com&_nc_cat=107&_nc_ohc=0v_N-8tvIgMAX_TXnpM&edm=AMKDjl4BAAAA&ccb=7-5&ig_cache_key=Mjk0NzQ4NDI3MjQ5NzE3NzI3NQ%3D%3D.2-ccb7-5&oh=00_AT82WkWbT0vFKA2bUnp_zY5fGGV2KHwhqKnO7mtHP7MgxA&oe=634D9C0F&_nc_sid=1fe099'),\n",
       "   'media_type': 1}],\n",
       " 'clips_metadata': {}}"
      ]
     },
     "execution_count": 27,
     "metadata": {},
     "output_type": "execute_result"
    }
   ],
   "source": [
    "medias[0].dict()"
   ]
  },
  {
   "cell_type": "code",
   "execution_count": null,
   "metadata": {},
   "outputs": [],
   "source": []
  },
  {
   "cell_type": "code",
   "execution_count": 28,
   "metadata": {},
   "outputs": [
    {
     "name": "stdout",
     "output_type": "stream",
     "text": [
      "2022-10-12 15:12:08+00:00\n",
      "2022-10-12 15:10:29+00:00\n",
      "2022-10-12 15:09:30+00:00\n",
      "2022-10-12 15:05:50+00:00\n",
      "2022-10-12 15:06:57+00:00\n",
      "2022-10-12 15:04:11+00:00\n",
      "2022-10-12 15:04:57+00:00\n",
      "2022-10-12 15:05:20+00:00\n",
      "2022-10-12 15:03:07+00:00\n",
      "2022-10-12 15:03:24+00:00\n",
      "2022-10-12 15:00:29+00:00\n",
      "2022-10-12 14:56:13+00:00\n",
      "2022-10-12 14:54:23+00:00\n",
      "2022-10-12 14:54:12+00:00\n",
      "2022-10-12 14:52:12+00:00\n",
      "2022-10-12 14:51:41+00:00\n",
      "2022-10-12 14:50:58+00:00\n",
      "2022-10-12 14:51:12+00:00\n",
      "2022-10-12 14:49:26+00:00\n",
      "2022-10-12 14:49:46+00:00\n",
      "2022-10-12 14:46:41+00:00\n",
      "2022-10-12 14:45:57+00:00\n",
      "2022-10-12 14:45:32+00:00\n",
      "2022-10-12 14:18:10+00:00\n",
      "2022-10-12 14:42:57+00:00\n",
      "2022-10-12 14:42:12+00:00\n",
      "2022-10-12 14:44:07+00:00\n",
      "2022-10-12 14:42:22+00:00\n",
      "2022-10-12 14:39:58+00:00\n",
      "2022-10-12 14:33:47+00:00\n",
      "2022-10-12 14:33:57+00:00\n",
      "2022-10-12 14:32:53+00:00\n"
     ]
    }
   ],
   "source": [
    "for media in medias:\n",
    "  # print(media.dict()['user']['username'])\n",
    "  print(media.dict()['taken_at'])"
   ]
  },
  {
   "cell_type": "code",
   "execution_count": 29,
   "metadata": {},
   "outputs": [
    {
     "name": "stdout",
     "output_type": "stream",
     "text": [
      "2022-10-12 14:33:47+00:00\n",
      "2022-10-12 14:33:57+00:00\n",
      "2022-10-12 14:32:53+00:00\n",
      "2022-10-12 14:33:08+00:00\n",
      "2022-10-12 14:31:10+00:00\n",
      "2022-10-12 14:29:35+00:00\n",
      "2022-10-12 14:27:42+00:00\n",
      "2022-10-12 14:23:27+00:00\n",
      "2022-10-12 14:23:55+00:00\n",
      "2022-10-12 14:24:14+00:00\n",
      "2022-10-12 14:24:22+00:00\n",
      "2022-10-12 14:23:36+00:00\n",
      "2022-10-12 14:20:21+00:00\n",
      "2022-10-12 14:19:41+00:00\n",
      "2022-10-12 14:19:32+00:00\n",
      "2022-10-12 14:19:06+00:00\n",
      "2022-10-12 14:18:05+00:00\n",
      "2022-10-12 14:10:55+00:00\n",
      "2022-10-12 14:08:32+00:00\n",
      "2022-10-12 14:08:27+00:00\n",
      "2022-10-12 14:08:49+00:00\n",
      "2022-10-12 14:05:58+00:00\n",
      "2022-10-12 14:04:34+00:00\n",
      "2022-10-12 14:03:59+00:00\n",
      "2022-10-12 14:04:43+00:00\n",
      "2022-10-12 14:02:10+00:00\n",
      "2022-10-12 14:02:57+00:00\n",
      "2022-10-12 14:02:16+00:00\n",
      "2022-10-12 14:01:43+00:00\n",
      "2022-10-12 14:01:04+00:00\n",
      "2022-10-12 14:00:22+00:00\n",
      "2022-10-12 14:00:17+00:00\n"
     ]
    }
   ],
   "source": [
    "for media in medias2:\n",
    "  # print(media.dict()['user']['username'])\n",
    "  print(media.dict()['taken_at'])"
   ]
  },
  {
   "cell_type": "code",
   "execution_count": 30,
   "metadata": {},
   "outputs": [],
   "source": [
    "medias3, cursor3 = cl.hashtag_medias_v1_chunk('인스타툰', max_amount=32, tab_key='recent', max_id=cursor)"
   ]
  },
  {
   "cell_type": "code",
   "execution_count": 36,
   "metadata": {},
   "outputs": [
    {
     "name": "stdout",
     "output_type": "stream",
     "text": [
      "🖤성별반전(Dam)\n",
      "인스타툰 그리다가 손목이 아파서 대충 휘갈긴 낙서를 열심히..? 폰그림으로 끄적거렸습니다ㅎ\n",
      "\n",
      "🖤#인스타그림 #인스타툰 #그림 #일러스트 #그림계정맞팔 #맞팔 #소통 #followforfollowback #art #illust #성별반전 #자캐 #자캐그리기 #자캐스타그램 #자캐그림 #ai_toon #team_ai\n",
      "👻 메리 할로윈 ver.김갈매 👻\n",
      "흰 깃털의 소유자 김갈매씨가\n",
      "흰 천을 뒤집어 쓰고 두둥등장!\n",
      "(그럼 딱히 쓸 필요 없었던 거 아냐?)\n",
      "\n",
      "노래 선곡은 안하고 놀고있는 새하얀 김갈매씨를 보니.. 당장 데려가서 떡볶이를 먹이고 싶네요 (?)\n",
      "\n",
      "#할로윈 #할로윈분장 #할로윈파티 #인스타툰 #일상툰 #방랑갈매기_김갈매\n",
      "#일상툰 #컷툰 #인스타툰 #만화스타그램 #그림 #낙서 #좋아요 #팔로우 #잇팁 #istp #일러스트\n",
      "남들도 나와 똑같은 목표를향해 달린다.\n",
      "\n",
      "그러다보면 드는 생각은 ’나중에 과연 행복한 삶을 이룰 수 있을까?‘입니다\n",
      "\n",
      "저희 친할아버지는 돌아가시기 전에 ‘여한 없이 행복하게 살다간다’ 라고 말씀하셨는데, 과연 무엇이 행복한 삶 이었을까요?🧐\n",
      "\n",
      "학원에서 알바하면서 듣는 말들은 ‘쌤 대학가면 행복해요?’\n",
      "저도 고등학교때는 대학에가면 행복할 줄 알았는데\n",
      "취업이라는 또다른 퀘스트가 주어지고, \n",
      "이 퀘스트를 깨면 또 다른 퀘스트들이 주어지겠죠?\n",
      "\n",
      "#일상툰 #일상 #인스타툰 #생활툰  #인티제 #에세이툰 #캐릭터 #일기 #공감툰\n",
      "마음의 평화\n",
      ".\n",
      ".\n",
      ".\n",
      ".\n",
      ".\n",
      ".\n",
      ".\n",
      "#그림 #일러스트 #캐릭터 #일상 #일상툰 #인스타툰 #낙서 #만화 #티타임\n",
      "#작가 #글 #웹툰 #인스타툰 #일상툰 #공감툰 #글쓰는곰 #글쓴이 #그림못그리는 #사람 #아니 #곰 #만반잘부 #일상 #일기 #일기장 #소소한일상 #단순\n",
      ".\n",
      "[ 제목: 9시간 부재. ]\n",
      "\n",
      "기분 좋은 아침 산책을 했다. 그리고 집에 왔는데 엄마가 나갔다 온다며 나갔다. 9시간 동안 말이다! 엄청 걱정했다고!\n",
      "\n",
      "오늘의 일기 끝.\n",
      "\n",
      "🐶: 지금 집 나간지 몇시간이야!\n",
      "👩🏻: 어.. 미.. 미안.. 😓\n",
      "\n",
      "#진돗개 #진돗개툰 #진돗개일상 #그림일기 #강아지웹툰 #일상툰 #인스타툰 #다복이 #블랙탄 #다복이그림일기\n",
      "\n",
      "#9시간부재 #걱정했다고 #외로웠다고\n",
      "似たような洋服にしてみた👚\n",
      "\n",
      "#instagood #happy #tbt #like4likes #followｍe #pickoftheday #me #selfie #ripost #instadaily #girl #phonegraphy #fun #smile #instalike #instagram #life #phone #instamood #makeup #holiday #한국 사랑 #맞팔 #좋아요 #일본 #인스타툰\n",
      "너의 호기심과 탐구정신 응원햐...😂 무럭무럭 쑤욱쑥 자라렴...\n",
      "\n",
      "#또주니툰 #인스타툰 #육아툰 #육아일기 #그림일기 #18개월아기 #무럭무럭쑤욱쑥\n",
      "애들이 새벽에 자꾸 깨서 온수매트 깔아줬더니 이젠 일어나질 못하네요. \n",
      "\n",
      "#달프씨#인스타툰#일상툰#온수매트#육아\n",
      "새로운거 배워서 씐남\n",
      "\n",
      "#단정한100일의반복#20일차\n",
      "\n",
      "#100daysproject_yasoo#매일그림그리기#오늘의하이라이트\n",
      "#그림일기#인스타툰#illustration#illust#instatoon#drawing#아이패드#애플펜슬#프로크리에이트#procreate\n",
      "가을 🍂🍁🍂🍁 사과와 커피\n",
      "\n",
      "#1일1그림 #그림일기 # #illustration #인스타툰 #instatoon #일상툰 #낙서 #만화 #daily  #doodleoftheday #instatoon #그림스타그램#일상#일러스트그램#그림그리기#그림연습 \n",
      "#무나니 #moonani\n",
      "K직장인 고충 3컷 😤\n",
      ".\n",
      "\n",
      "#다람툰 #다라미 #직장인 #지하철 #지하철콩나물 #인스타툰 #인스타툰그램 #인스타그림 #drawing #draw #취미 #인스타툰맞팔 #인스타툰꿈나무 #맞팔 #그림계정맞팔 #그림계정맞팔환영 #선팔하면맞팔 #선팔 #일상 #daily\n",
      "나에겐 관대하고 너에겐 엄격해지는 영역들_\n",
      "\n",
      "#부부일상 #부부스타그램 #청소스타그램 #성격차이 #부부싸움 #ENFP #ENTP #인스타툰\n",
      "[EP.2 1000만원 저축, 쉬운 거 아님??]\n",
      "저축을 하며,  저의 제한된 근로능력을 확장시켜야 한다는 생각을 하게 되었는데요! \n",
      "이와 관련된 여러가지 이야기들을 \n",
      "여러분들과 나누고 싶어요😀👍\n",
      ".\n",
      "\n",
      "#인스타툰#재테크#재테크툰#일상#일상툰#생활#생활툰#모리툰#사회초년생#돈모으기#재테크그램#짠테크#생각#공각#일러스트#daily#like#follow\n",
      "🎯취준생이 아니라 N준생입니다6 (완)🎯\n",
      "긴 긴 이야기를 들어주셔서 감사드려요🙇‍♀️💗 2주 정도면 끝나지 않을까했는데 이런 저런 이유로 한달이나 걸리게 되었어요. 조금 루즈하게 느껴질 수도 있었을텐데 끝까지 지켜봐주셔서 모두 진심으로 감사드립니다🥹💞\n",
      "이번 시리즈 연재하면서 힘이 다소 들었는지 소통도 많이 줄고 찾아뵙지 못해서 너무 죄송해요,,🥺😭 얼른 기운차려서 금방 찾아뵐께요!\n",
      "모두 쌀쌀한 날씨에 따뜻한 밤보내셨으면 좋겠어요✨\n",
      "\n",
      "[오타] 과정 일테니➡️과정일 테니\n",
      "\n",
      ".\n",
      ".\n",
      ".\n",
      "#인스타툰 #인스타툰추천 #감성툰 #힐링툰 #아이패드드로잉✍️\n",
      "인프제 특징인가 찐따 특징인가\n",
      "\n",
      "#인스타툰 #생각툰 #표본툰 #샘플툰 #인프제툰 #인프제 #엠비티아이 #엠비티아이툰 #일상툰 #일상 #반박시니말이맞음 #mbti #infj\n",
      "대신 씻어주는 기술 발전기원..\n",
      "\n",
      "#인수타툰 #인스타툰\n",
      "꼬마b형 생일축하해🎂\n",
      "갈수록 장꾸가 되고 있지만 그래도 너무 귀여워~🤭\n",
      "샤머니즘을 좋아하는 엄마는 삼신할머니께도 감사드린다는😁\n",
      "건강하고 씩씩하게 커줘~\n",
      "(그렇지만 지금 깁스를 하고 있는 아이러니🫣)\n",
      "\n",
      "#인스타툰#일상툰#육아툰#육아#남매툰#남매#육아일기#일상#엄마#아이#육아만화#육아툰#육아일상#일상소통#한컷만화#한컷툰#사랑해#귀여워#소중해#아들#둘째#그림스타그램#instatoon#toon##2019년생#돼지띠\n",
      "뱃살핫팩 최고❤️🔥\n",
      "\n",
      "여러분 잘지내셨나용! 저는 본가에서 돌아와 다시 소시지군을 만났습니다아🎉 \n",
      "날씨가 너무 쌀쌀해졌어요!! 저는 수족냉증이있는데 특히 발이 항상 차가운편입니당ㅜ 그래서 마련한 저의 전용 핫팩..🤭 따듯해요..ㅎ\n",
      "\n",
      "#인스타툰 #인스타툰초보 #드로잉 #연애툰 #일상툰 #수족냉증 #핫팩필수 #뱃살핫팩 #럽스타그램 #소시지툰\n",
      "안녕하세요..작가 뫄뫄입니다..제가 처음으로 인스타툰을 연제하는데요.. 재밌게 봐주셨으면 좋겠네욯ㅎ\n",
      "제가 학생이다보니 주로 학교를 배경으로한 사건과 친구들과의 에피소드가 주 이야기인데요 이번 1화는 저희 학교에 존잘남이 있을까..?? 라는 생각에서 나와 연제를 처음으로 하게되었습니다..학생이다보니 그림이 많이 이상할수 있으니 양해를 미리 구합니당...ㅎ 연제 본격 1화는 다음주 월요일부터 진행됩니다.\n",
      "\n",
      "#인스타툰#학교#일상툰연재 #1화\n",
      "봉사활동에 있어서 저에게 가장 큰 기억을 남겨준 일이었습니다. \n",
      "\n",
      "다음화에는 후기와 함께 찾아뵙도록하겠습니다. \n",
      "궁금하신점이 있다면 댓글로 적어주시면 참고하여 후기에서 이야기를 더 풀어나가보도록 하겠습니다!!💕💕\n",
      "\n",
      "그리고...ㅎㅎ 스토리를 보신 분이라면 아시겠지만 구더기들을 계속 그려서 그런가... 저에게 충격적인 일이 함께 일어나서 그에 대한 얘기도 같이 풀어가보도록 하겠습니다...😂😂\n",
      "\n",
      "지금까지 <청소, 어디까지 해봤니?>를 재밌게 봐주셔서 감사드립니다💕💕\n",
      "\n",
      "#쭈꾸미 #쭈꾸리 #쭈굴쭈꿀 #쭈굴쭈꿀쭈꾸리#인스타툰 #그림일기 #공감툰 #만화 #일러스트 #일상툰 #집짓기 #집짓기봉사 #봉사 #봉사활동\n",
      "오늘 유독 더 공감되었던 글이라 담아왔습니다\n",
      "\n",
      "#인간관계 에 대한 고민과 걱정을 넘어 불안과 고통을 느낀다면 #손절 은 필요할 수도 있다고 생각합니다\n",
      "\n",
      "모두의 상황과 자리에서 모두가 행복했으면 좋겠습니다 \n",
      "\n",
      "#인생3쿼터 #일상툰 #심바쌈바 #일러스트 #일상스타그램 #그림스타그램 #인스타툰 #생활툰 #그림일기 #인스타웹툰\n",
      "#손절신호 #인간관계글귀 #인간관계정리 #고쳐쓰는거아님 \n",
      "#난이제지쳤어요 #사실내게하는위로일지도\n",
      "과 이름에 낚인 썰 (완)\n",
      "\n",
      "첫 번째 이야기 괜찮으셨나요? 가장 처음 나누고 싶던 이유는 '왜 대학원에 갔는가!' 에 대해서 나누고 싶었어요 배울 수 있는 마지막 시기에 원하는 걸 배우고 가자! 의 마인드도 있었던 것 같아요😀\n",
      "\n",
      "제가 보기에도 가시성이 떨어지는 것 같아 펜 색깔을 아예 다 검은색으로 통일하였습니다! 저는 이게 더 괜찮아보여서 한동안은 오늘과 같은 느낌으로 가려고해요 \n",
      "\n",
      "스토리텔링 역시 ~습니다의 어투를 사용하는게 제가 여러분들에게 들려드리고 싶은 이야기를 들려드리는 기분이라 이렇게 가보고자 합니다!\n",
      "\n",
      "초반이라 시행착오가 많지만 봐주시는 분들 늘 감사하고 사..사랑합니다💚\n",
      "\n",
      "다음 화로 이어지기 전 살짝쿵 일상툰 한편 업로드 하고! 예고편에 나온 이야기 시작하도록 하겠습니다\n",
      "\n",
      "P.S. 저희 교수님 매드사이언티스트 아닙니다.. 저 교수님 많이 존경합니다💚\n",
      "\n",
      "#인스타툰 #일상툰 #대학원툰 #대학교툰 #daily #화공생명공학과 #와사마요툰 #미생물집사\n",
      "오늘도 분량조절 실패!\n",
      "몰아보기 ➡️ #펭빈이랑우당탕탕제주여행기\n",
      "\n",
      "#윤호롱 #인스타툰 #일상툰 #직장인툰 #호롱툰 #펭빈이랑 #직장인여행기 #여행툰 #여행일기 #제주도여행기\n",
      "10.12\n",
      "오늘 뭔가 갑자기 너무 피곤해서(사실 어제 밤에 잘 못자서)늦잠+침대생활 콤보를 맞이했답니다... 덕분에 침대와 한몸...오늘은 그냥 쉰다고 생각했답니다. 하지만 학원일은 해야하니까 갔다왔지 후후...\n",
      "\n",
      "노래: 월요병가-스텔라장\n",
      "\n",
      "#그림스타그램 #낙서 #인스타툰 #일기 #그림일기 #그림계정맞팔 #cartoon #doodle #illustration #diary\n",
      "다누미가 추천하는 태백 맛집 !\n",
      "\n",
      "♥️ 2-4 #아우라지식당 \n",
      "태백 아우라지식당 🍜 간판은 빛이 바라고 내부는 조금 허술하지만 장칼국수와 김밥 맛은 정말 일품이에요! 장칼국수는 강릉에서 먹었던 유명한 장칼국수보다 맛있었구 김밥은 슴슴하니 집에서 만든 김밥처럼 맛있었어요 🍙 \n",
      "\n",
      "♥️ 5-9 #맛나분식 \n",
      "태백 맛나분식 🧃 #명품쫄면 으로 유명한 맛나분식! 그런데 개인적으로는 쫄면보다 비빔만두가 너무 맛있었어요! 쫄면 + 비빔만두 + 돈가스 = 행복💛\n",
      "\n",
      "〰️\n",
      "#다누미_맛집 👈 맛집 모아보기\n",
      "\n",
      "#생활툰 #인스타툰 #일상툰 #맛집 #맛집추천 #맛스타그램 #태백 #태백맛집 #일러스트 #artwork #먹스타\n",
      "🇹🇭태국에선 하루 두 번! \n",
      "그대로 멈춰랏~\n",
      ".\n",
      "그나저나 태국 국가의 중독적인 멜로디 계속 흥흥흥~ 가사를 언제쯤 외울 수 있을런지… \n",
      ".\n",
      "다들 한 번 들어보세요 anthem of thailand \n",
      ".\n",
      "#인스타툰 #일상툰 #태국 #치앙마이 #사바이툰 #태국여행 #태국이민 #태국어 #태국국가 #เพลงชาติไทย #여행툰 #치앙마이여행 #태국꿀팁 #anthemofthailand\n",
      "반갑습니다!\n",
      ".\n",
      "\n",
      ".\n",
      "\n",
      ".\n",
      "\n",
      "#그림 #그림그리기 #그림스타그램 #아이패드드로잉#아이패드그림 #ipaddrawing #일러스트레이터 #illustator #painting #drawing #procreate #드로잉 #프로크리에이트 #일러스트 #illust #sketch #디지털드로잉  #art #artwork #아트워크 #디지털그림 #디지털드로잉 #illustration #artstagram #digitalart #인스타툰 #몰 #작가\n",
      "#만화 #comics #illustration #procreate #아이패드드로잉 #인스타툰 #웹툰 #webtoon #그림 #그림연습 #progamer #프로게이머 #오빠 #같이하자\n",
      "육퇴 후 맥쥬 캬 🍺\n",
      "\n",
      "#인스타툰 #일상 #만화 #일러스트 #데일리 #일상툰 #drawing #그림일기 #그림 #illustration #임신툰 #출산툰 #육아툰 #변호사웹툰 #취미 #드로잉 #공감 #변호사부부 #신자봉 #상욱씨 #또지니 #임산부맥주 #무알콜\n",
      "여러분의 마지막 대학 축제는 언제인가요? \n",
      "아마 저는 올해가 마지막이 될 것 같습니다😂\n",
      "\n",
      "처음 동기들과 함께했던 분위기와 추억은 \n",
      "다시 겪을 수 없겠지만 이런 마지막도 나쁘지만은 않네요ㅎㅎ\n",
      "(이래놓고 내년에 상반기에 열리면 어떡하지ㅋㅋㅋ)\n",
      "\n",
      "#감쟈 #나눈감쟈 #감쟈툰 #일상 #대학생 #화석 #복학생 #인스타툰 #일상툰 #대학축제 #축하공연 #10cm #마지막축제\n"
     ]
    }
   ],
   "source": [
    "for media in medias3:\n",
    "  # print(media.dict()['user']['username'])\n",
    "  # print(media.dict()['taken_at'])\n",
    "  print(media.dict()['caption_text'])"
   ]
  },
  {
   "cell_type": "code",
   "execution_count": 34,
   "metadata": {},
   "outputs": [
    {
     "data": {
      "text/plain": [
       "{'pk': '2947464525936624270',\n",
       " 'id': '2947464525936624270_55782271573',\n",
       " 'code': 'Cjnf164hIKO',\n",
       " 'taken_at': datetime.datetime(2022, 10, 12, 14, 32, 53, tzinfo=datetime.timezone.utc),\n",
       " 'media_type': 1,\n",
       " 'product_type': 'feed',\n",
       " 'thumbnail_url': HttpUrl('https://scontent-gmp1-1.cdninstagram.com/v/t51.2885-15/311611534_1173408603611593_7572816086914142549_n.webp?stp=dst-jpg_e35_s1080x1080&_nc_ht=scontent-gmp1-1.cdninstagram.com&_nc_cat=101&_nc_ohc=GApGJm8X2eAAX-n1KKo&edm=AMKDjl4BAAAA&ccb=7-5&ig_cache_key=Mjk0NzQ2NDUyNTkzNjYyNDI3MA%3D%3D.2-ccb7-5&oh=00_AT94nZWpiTQTnk_WMlcBBHpWRYrM9u_33-kO-OilpKyYSw&oe=634E8A4A&_nc_sid=1fe099', scheme='https', host='scontent-gmp1-1.cdninstagram.com', tld='com', host_type='domain', port='443', path='/v/t51.2885-15/311611534_1173408603611593_7572816086914142549_n.webp', query='stp=dst-jpg_e35_s1080x1080&_nc_ht=scontent-gmp1-1.cdninstagram.com&_nc_cat=101&_nc_ohc=GApGJm8X2eAAX-n1KKo&edm=AMKDjl4BAAAA&ccb=7-5&ig_cache_key=Mjk0NzQ2NDUyNTkzNjYyNDI3MA%3D%3D.2-ccb7-5&oh=00_AT94nZWpiTQTnk_WMlcBBHpWRYrM9u_33-kO-OilpKyYSw&oe=634E8A4A&_nc_sid=1fe099'),\n",
       " 'location': None,\n",
       " 'user': {'pk': '55782271573',\n",
       "  'username': 'uoct_zib',\n",
       "  'full_name': '유악|istp',\n",
       "  'profile_pic_url': HttpUrl('https://scontent-gmp1-1.cdninstagram.com/v/t51.2885-19/311432309_496812288771657_3897151044667162848_n.jpg?stp=dst-jpg_s150x150&_nc_ht=scontent-gmp1-1.cdninstagram.com&_nc_cat=109&_nc_ohc=CtubilsoL8oAX8QzJy5&edm=AMKDjl4BAAAA&ccb=7-5&oh=00_AT8_TqSj3ZZctWZuykX55CbfaOh36iQvRwUmNkGPo_3ChA&oe=634D2D75&_nc_sid=1fe099', scheme='https', host='scontent-gmp1-1.cdninstagram.com', tld='com', host_type='domain', port='443', path='/v/t51.2885-19/311432309_496812288771657_3897151044667162848_n.jpg', query='stp=dst-jpg_s150x150&_nc_ht=scontent-gmp1-1.cdninstagram.com&_nc_cat=109&_nc_ohc=CtubilsoL8oAX8QzJy5&edm=AMKDjl4BAAAA&ccb=7-5&oh=00_AT8_TqSj3ZZctWZuykX55CbfaOh36iQvRwUmNkGPo_3ChA&oe=634D2D75&_nc_sid=1fe099'),\n",
       "  'profile_pic_url_hd': None,\n",
       "  'is_private': False,\n",
       "  'stories': []},\n",
       " 'comment_count': 0,\n",
       " 'like_count': 22,\n",
       " 'has_liked': False,\n",
       " 'caption_text': '#일상툰 #컷툰 #인스타툰 #만화스타그램 #그림 #낙서 #좋아요 #팔로우 #잇팁 #istp #일러스트',\n",
       " 'accessibility_caption': None,\n",
       " 'usertags': [],\n",
       " 'video_url': None,\n",
       " 'view_count': 0,\n",
       " 'video_duration': 0.0,\n",
       " 'title': '',\n",
       " 'resources': [],\n",
       " 'clips_metadata': {}}"
      ]
     },
     "execution_count": 34,
     "metadata": {},
     "output_type": "execute_result"
    }
   ],
   "source": [
    "medias[31].dict()"
   ]
  },
  {
   "cell_type": "code",
   "execution_count": 35,
   "metadata": {},
   "outputs": [
    {
     "data": {
      "text/plain": [
       "{'pk': '2947464525936624270',\n",
       " 'id': '2947464525936624270_55782271573',\n",
       " 'code': 'Cjnf164hIKO',\n",
       " 'taken_at': datetime.datetime(2022, 10, 12, 14, 32, 53, tzinfo=datetime.timezone.utc),\n",
       " 'media_type': 1,\n",
       " 'product_type': 'feed',\n",
       " 'thumbnail_url': HttpUrl('https://scontent-gmp1-1.cdninstagram.com/v/t51.2885-15/311611534_1173408603611593_7572816086914142549_n.webp?stp=dst-jpg_e35_s1080x1080&_nc_ht=scontent-gmp1-1.cdninstagram.com&_nc_cat=101&_nc_ohc=GApGJm8X2eAAX-n1KKo&edm=AMKDjl4BAAAA&ccb=7-5&ig_cache_key=Mjk0NzQ2NDUyNTkzNjYyNDI3MA%3D%3D.2-ccb7-5&oh=00_AT94nZWpiTQTnk_WMlcBBHpWRYrM9u_33-kO-OilpKyYSw&oe=634E8A4A&_nc_sid=1fe099', scheme='https', host='scontent-gmp1-1.cdninstagram.com', tld='com', host_type='domain', port='443', path='/v/t51.2885-15/311611534_1173408603611593_7572816086914142549_n.webp', query='stp=dst-jpg_e35_s1080x1080&_nc_ht=scontent-gmp1-1.cdninstagram.com&_nc_cat=101&_nc_ohc=GApGJm8X2eAAX-n1KKo&edm=AMKDjl4BAAAA&ccb=7-5&ig_cache_key=Mjk0NzQ2NDUyNTkzNjYyNDI3MA%3D%3D.2-ccb7-5&oh=00_AT94nZWpiTQTnk_WMlcBBHpWRYrM9u_33-kO-OilpKyYSw&oe=634E8A4A&_nc_sid=1fe099'),\n",
       " 'location': None,\n",
       " 'user': {'pk': '55782271573',\n",
       "  'username': 'uoct_zib',\n",
       "  'full_name': '유악|istp',\n",
       "  'profile_pic_url': HttpUrl('https://scontent-gmp1-1.cdninstagram.com/v/t51.2885-19/311432309_496812288771657_3897151044667162848_n.jpg?stp=dst-jpg_s150x150&_nc_ht=scontent-gmp1-1.cdninstagram.com&_nc_cat=109&_nc_ohc=CtubilsoL8oAX8QzJy5&edm=AMKDjl4BAAAA&ccb=7-5&oh=00_AT8_TqSj3ZZctWZuykX55CbfaOh36iQvRwUmNkGPo_3ChA&oe=634D2D75&_nc_sid=1fe099', scheme='https', host='scontent-gmp1-1.cdninstagram.com', tld='com', host_type='domain', port='443', path='/v/t51.2885-19/311432309_496812288771657_3897151044667162848_n.jpg', query='stp=dst-jpg_s150x150&_nc_ht=scontent-gmp1-1.cdninstagram.com&_nc_cat=109&_nc_ohc=CtubilsoL8oAX8QzJy5&edm=AMKDjl4BAAAA&ccb=7-5&oh=00_AT8_TqSj3ZZctWZuykX55CbfaOh36iQvRwUmNkGPo_3ChA&oe=634D2D75&_nc_sid=1fe099'),\n",
       "  'profile_pic_url_hd': None,\n",
       "  'is_private': False,\n",
       "  'stories': []},\n",
       " 'comment_count': 0,\n",
       " 'like_count': 22,\n",
       " 'has_liked': False,\n",
       " 'caption_text': '#일상툰 #컷툰 #인스타툰 #만화스타그램 #그림 #낙서 #좋아요 #팔로우 #잇팁 #istp #일러스트',\n",
       " 'accessibility_caption': None,\n",
       " 'usertags': [],\n",
       " 'video_url': None,\n",
       " 'view_count': 0,\n",
       " 'video_duration': 0.0,\n",
       " 'title': '',\n",
       " 'resources': [],\n",
       " 'clips_metadata': {}}"
      ]
     },
     "execution_count": 35,
     "metadata": {},
     "output_type": "execute_result"
    }
   ],
   "source": [
    "medias2[2].dict()"
   ]
  },
  {
   "cell_type": "code",
   "execution_count": 37,
   "metadata": {},
   "outputs": [
    {
     "data": {
      "text/plain": [
       "312"
      ]
     },
     "execution_count": 37,
     "metadata": {},
     "output_type": "execute_result"
    }
   ],
   "source": [
    "len('https://scontent-gmp1-1.cdninstagram.com/v/t51.2885-19/308929897_893269748744081_7487094062981084957_n.jpg?stp=dst-jpg_s150x150&_nc_ht=scontent-gmp1-1.cdninstagram.com&_nc_cat=105&_nc_ohc=gxs7TyUmagYAX9W183a&edm=AMKDjl4BAAAA&ccb=7-5&oh=00_AT_ZKLbC1lW5Wk3Ypc2FYN-Qyjahmo4bM9ZpwjXaGW-a7g&oe=634E0F2C&_nc_sid=1fe099')"
   ]
  },
  {
   "cell_type": "code",
   "execution_count": null,
   "metadata": {},
   "outputs": [],
   "source": []
  }
 ],
 "metadata": {
  "kernelspec": {
   "display_name": "Python 3.10.6 64-bit",
   "language": "python",
   "name": "python3"
  },
  "language_info": {
   "codemirror_mode": {
    "name": "ipython",
    "version": 3
   },
   "file_extension": ".py",
   "mimetype": "text/x-python",
   "name": "python",
   "nbconvert_exporter": "python",
   "pygments_lexer": "ipython3",
   "version": "3.10.6"
  },
  "orig_nbformat": 4,
  "vscode": {
   "interpreter": {
    "hash": "b0fa6594d8f4cbf19f97940f81e996739fb7646882a419484c72d19e05852a7e"
   }
  }
 },
 "nbformat": 4,
 "nbformat_minor": 2
}
